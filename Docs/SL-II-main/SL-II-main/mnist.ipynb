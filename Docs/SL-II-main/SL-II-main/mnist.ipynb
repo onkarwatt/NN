{
  "cells": [
    {
      "cell_type": "markdown",
      "metadata": {
        "id": "JBrKLZiEIMQk"
      },
      "source": [
        "### Practical No. 13/14\n",
        "- MNIST Handwritten Character Detection using PyTorch, Keras and Tensorflow."
      ]
    },
    {
      "cell_type": "markdown",
      "metadata": {
        "id": "gav6lRoMIUUT"
      },
      "source": [
        "#### Tensorflow & Keras"
      ]
    },
    {
      "cell_type": "code",
      "execution_count": 2,
      "metadata": {
        "colab": {
          "base_uri": "https://localhost:8080/"
        },
        "id": "hgMhSFOqIXdf",
        "outputId": "19db46fe-0dc6-4213-8a89-fbc4f4419c01"
      },
      "outputs": [
        {
          "name": "stdout",
          "output_type": "stream",
          "text": [
            "Downloading data from https://storage.googleapis.com/tensorflow/tf-keras-datasets/mnist.npz\n",
            "11490434/11490434 [==============================] - 1s 0us/step\n",
            "Epoch 1/5\n",
            "1875/1875 [==============================] - 9s 5ms/step - loss: 0.2953 - accuracy: 0.9139\n",
            "Epoch 2/5\n",
            "1875/1875 [==============================] - 8s 4ms/step - loss: 0.1456 - accuracy: 0.9564\n",
            "Epoch 3/5\n",
            "1875/1875 [==============================] - 9s 5ms/step - loss: 0.1102 - accuracy: 0.9668\n",
            "Epoch 4/5\n",
            "1875/1875 [==============================] - 7s 4ms/step - loss: 0.0873 - accuracy: 0.9726\n",
            "Epoch 5/5\n",
            "1875/1875 [==============================] - 9s 5ms/step - loss: 0.0746 - accuracy: 0.9764\n",
            "313/313 - 1s - loss: 0.0750 - accuracy: 0.9764 - 716ms/epoch - 2ms/step\n",
            "Test accuracy: 0.9764000177383423\n"
          ]
        }
      ],
      "source": [
        "import tensorflow as tf\n",
        "\n",
        "from tensorflow.keras import layers, models, datasets\n",
        "\n",
        "\n",
        "\n",
        "# Step 1: Load and Preprocess Data\n",
        "\n",
        "(train_images, train_labels), (test_images, test_labels) = datasets.mnist.load_data()\n",
        "\n",
        "train_images, test_images = train_images / 255.0, test_images / 255.0\n",
        "\n",
        "\n",
        "\n",
        "# Step 2: Define the Neural Network Architecture\n",
        "\n",
        "model = models.Sequential([\n",
        "\n",
        "    layers.Flatten(input_shape=(28, 28)),\n",
        "\n",
        "    layers.Dense(128, activation='relu'),\n",
        "\n",
        "    layers.Dropout(0.2),\n",
        "\n",
        "    layers.Dense(10)\n",
        "\n",
        "])\n",
        "\n",
        "\n",
        "\n",
        "# Step 3: Compile the Model\n",
        "\n",
        "model.compile(optimizer='adam',\n",
        "\n",
        "              loss=tf.keras.losses.SparseCategoricalCrossentropy(from_logits=True),\n",
        "\n",
        "              metrics=['accuracy'])\n",
        "\n",
        "\n",
        "\n",
        "# Step 4: Train the Model\n",
        "\n",
        "model.fit(train_images, train_labels, epochs=5)\n",
        "\n",
        "\n",
        "\n",
        "# Step 5: Evaluate the Model\n",
        "\n",
        "test_loss, test_acc = model.evaluate(test_images, test_labels, verbose=2)\n",
        "\n",
        "print(f'Test accuracy: {test_acc}')\n"
      ]
    },
    {
      "cell_type": "markdown",
      "metadata": {
        "id": "XRYhJmnlIvZW"
      },
      "source": [
        "#### PyTorch"
      ]
    },
    {
      "cell_type": "code",
      "execution_count": 3,
      "metadata": {
        "colab": {
          "base_uri": "https://localhost:8080/"
        },
        "id": "ulYiLfu6IxxR",
        "outputId": "cb1e4494-97fe-40af-a083-c827223e7817"
      },
      "outputs": [
        {
          "name": "stdout",
          "output_type": "stream",
          "text": [
            "Downloading http://yann.lecun.com/exdb/mnist/train-images-idx3-ubyte.gz\n",
            "Failed to download (trying next):\n",
            "HTTP Error 403: Forbidden\n",
            "\n",
            "Downloading https://ossci-datasets.s3.amazonaws.com/mnist/train-images-idx3-ubyte.gz\n",
            "Downloading https://ossci-datasets.s3.amazonaws.com/mnist/train-images-idx3-ubyte.gz to ./data/MNIST/raw/train-images-idx3-ubyte.gz\n"
          ]
        },
        {
          "name": "stderr",
          "output_type": "stream",
          "text": [
            "100%|██████████| 9912422/9912422 [00:00<00:00, 10301773.30it/s]\n"
          ]
        },
        {
          "name": "stdout",
          "output_type": "stream",
          "text": [
            "Extracting ./data/MNIST/raw/train-images-idx3-ubyte.gz to ./data/MNIST/raw\n",
            "\n",
            "Downloading http://yann.lecun.com/exdb/mnist/train-labels-idx1-ubyte.gz\n",
            "Failed to download (trying next):\n",
            "HTTP Error 403: Forbidden\n",
            "\n",
            "Downloading https://ossci-datasets.s3.amazonaws.com/mnist/train-labels-idx1-ubyte.gz\n",
            "Downloading https://ossci-datasets.s3.amazonaws.com/mnist/train-labels-idx1-ubyte.gz to ./data/MNIST/raw/train-labels-idx1-ubyte.gz\n"
          ]
        },
        {
          "name": "stderr",
          "output_type": "stream",
          "text": [
            "100%|██████████| 28881/28881 [00:00<00:00, 312805.21it/s]\n"
          ]
        },
        {
          "name": "stdout",
          "output_type": "stream",
          "text": [
            "Extracting ./data/MNIST/raw/train-labels-idx1-ubyte.gz to ./data/MNIST/raw\n",
            "\n",
            "Downloading http://yann.lecun.com/exdb/mnist/t10k-images-idx3-ubyte.gz\n",
            "Failed to download (trying next):\n",
            "HTTP Error 403: Forbidden\n",
            "\n",
            "Downloading https://ossci-datasets.s3.amazonaws.com/mnist/t10k-images-idx3-ubyte.gz\n",
            "Downloading https://ossci-datasets.s3.amazonaws.com/mnist/t10k-images-idx3-ubyte.gz to ./data/MNIST/raw/t10k-images-idx3-ubyte.gz\n"
          ]
        },
        {
          "name": "stderr",
          "output_type": "stream",
          "text": [
            "100%|██████████| 1648877/1648877 [00:00<00:00, 2897313.99it/s]\n"
          ]
        },
        {
          "name": "stdout",
          "output_type": "stream",
          "text": [
            "Extracting ./data/MNIST/raw/t10k-images-idx3-ubyte.gz to ./data/MNIST/raw\n",
            "\n",
            "Downloading http://yann.lecun.com/exdb/mnist/t10k-labels-idx1-ubyte.gz\n",
            "Failed to download (trying next):\n",
            "HTTP Error 403: Forbidden\n",
            "\n",
            "Downloading https://ossci-datasets.s3.amazonaws.com/mnist/t10k-labels-idx1-ubyte.gz\n",
            "Downloading https://ossci-datasets.s3.amazonaws.com/mnist/t10k-labels-idx1-ubyte.gz to ./data/MNIST/raw/t10k-labels-idx1-ubyte.gz\n"
          ]
        },
        {
          "name": "stderr",
          "output_type": "stream",
          "text": [
            "100%|██████████| 4542/4542 [00:00<00:00, 3201769.54it/s]\n"
          ]
        },
        {
          "name": "stdout",
          "output_type": "stream",
          "text": [
            "Extracting ./data/MNIST/raw/t10k-labels-idx1-ubyte.gz to ./data/MNIST/raw\n",
            "\n",
            "Epoch: 1, Batch: 100, Loss: 2.266623704433441\n",
            "Epoch: 1, Batch: 200, Loss: 2.115434159040451\n",
            "Epoch: 1, Batch: 300, Loss: 1.5536149311065675\n",
            "Epoch: 1, Batch: 400, Loss: 0.7785533827543258\n",
            "Epoch: 1, Batch: 500, Loss: 0.47658758267760276\n",
            "Epoch: 1, Batch: 600, Loss: 0.38572605535387994\n",
            "Epoch: 1, Batch: 700, Loss: 0.3314477486908436\n",
            "Epoch: 1, Batch: 800, Loss: 0.2851393695175648\n",
            "Epoch: 1, Batch: 900, Loss: 0.25764889203011987\n",
            "Epoch: 2, Batch: 100, Loss: 0.23060206677764655\n",
            "Epoch: 2, Batch: 200, Loss: 0.20574448935687542\n",
            "Epoch: 2, Batch: 300, Loss: 0.19550807405263185\n",
            "Epoch: 2, Batch: 400, Loss: 0.20241138387471438\n",
            "Epoch: 2, Batch: 500, Loss: 0.18077132508158683\n",
            "Epoch: 2, Batch: 600, Loss: 0.18482270758599043\n",
            "Epoch: 2, Batch: 700, Loss: 0.1691936570033431\n",
            "Epoch: 2, Batch: 800, Loss: 0.15515301208943127\n",
            "Epoch: 2, Batch: 900, Loss: 0.15522128999233245\n",
            "Epoch: 3, Batch: 100, Loss: 0.13738538490608335\n",
            "Epoch: 3, Batch: 200, Loss: 0.13872809670865535\n",
            "Epoch: 3, Batch: 300, Loss: 0.1305638063699007\n",
            "Epoch: 3, Batch: 400, Loss: 0.13011644519865512\n",
            "Epoch: 3, Batch: 500, Loss: 0.1192725177668035\n",
            "Epoch: 3, Batch: 600, Loss: 0.1322987573966384\n",
            "Epoch: 3, Batch: 700, Loss: 0.11472434926778079\n",
            "Epoch: 3, Batch: 800, Loss: 0.11034269587136805\n",
            "Epoch: 3, Batch: 900, Loss: 0.11572146076709032\n",
            "Epoch: 4, Batch: 100, Loss: 0.11861983532086015\n",
            "Epoch: 4, Batch: 200, Loss: 0.10524837382137775\n",
            "Epoch: 4, Batch: 300, Loss: 0.10193009810522198\n",
            "Epoch: 4, Batch: 400, Loss: 0.1065762586146593\n",
            "Epoch: 4, Batch: 500, Loss: 0.09692389998584985\n",
            "Epoch: 4, Batch: 600, Loss: 0.08848005676642061\n",
            "Epoch: 4, Batch: 700, Loss: 0.09759135546162724\n",
            "Epoch: 4, Batch: 800, Loss: 0.08835190323181451\n",
            "Epoch: 4, Batch: 900, Loss: 0.09527588197030128\n",
            "Epoch: 5, Batch: 100, Loss: 0.09244369173422456\n",
            "Epoch: 5, Batch: 200, Loss: 0.08794074142351746\n",
            "Epoch: 5, Batch: 300, Loss: 0.08575396969914437\n",
            "Epoch: 5, Batch: 400, Loss: 0.08289242772385479\n",
            "Epoch: 5, Batch: 500, Loss: 0.08210583988577128\n",
            "Epoch: 5, Batch: 600, Loss: 0.08876096449792385\n",
            "Epoch: 5, Batch: 700, Loss: 0.07813490865752101\n",
            "Epoch: 5, Batch: 800, Loss: 0.07595584349706769\n",
            "Epoch: 5, Batch: 900, Loss: 0.08696842108853162\n",
            "Finished Training\n"
          ]
        }
      ],
      "source": [
        "import torch\n",
        "\n",
        "import torchvision\n",
        "\n",
        "import torch.nn as nn\n",
        "\n",
        "import torch.optim as optim\n",
        "\n",
        "import torchvision.transforms as transforms\n",
        "\n",
        "\n",
        "\n",
        "# Step 1: Load and Preprocess Data\n",
        "\n",
        "transform = transforms.Compose([transforms.ToTensor(), transforms.Normalize((0.5,), (0.5,))])\n",
        "\n",
        "train_set = torchvision.datasets.MNIST(root='./data', train=True, download=True, transform=transform)\n",
        "\n",
        "train_loader = torch.utils.data.DataLoader(train_set, batch_size=64, shuffle=True)\n",
        "\n",
        "\n",
        "\n",
        "# Step 2: Define the Neural Network Architecture\n",
        "\n",
        "class Net(nn.Module):\n",
        "\n",
        "    def __init__(self):\n",
        "\n",
        "        super(Net, self).__init__()\n",
        "\n",
        "        self.conv1 = nn.Conv2d(1, 32, kernel_size=3)\n",
        "\n",
        "        self.conv2 = nn.Conv2d(32, 64, kernel_size=3)\n",
        "\n",
        "        self.fc1 = nn.Linear(1600, 128)\n",
        "\n",
        "        self.fc2 = nn.Linear(128, 10)\n",
        "\n",
        "\n",
        "\n",
        "    def forward(self, x):\n",
        "\n",
        "        x = torch.relu(self.conv1(x))\n",
        "\n",
        "        x = torch.max_pool2d(x, kernel_size=2, stride=2)\n",
        "\n",
        "        x = torch.relu(self.conv2(x))\n",
        "\n",
        "        x = torch.max_pool2d(x, kernel_size=2, stride=2)\n",
        "\n",
        "        x = x.view(-1, 1600)\n",
        "\n",
        "        x = torch.relu(self.fc1(x))\n",
        "\n",
        "        x = self.fc2(x)\n",
        "\n",
        "        return x\n",
        "\n",
        "\n",
        "\n",
        "model = Net()\n",
        "\n",
        "\n",
        "\n",
        "# Step 3: Define Loss Function and Optimizer\n",
        "\n",
        "criterion = nn.CrossEntropyLoss()\n",
        "\n",
        "optimizer = optim.SGD(model.parameters(), lr=0.01)\n",
        "\n",
        "\n",
        "\n",
        "# Step 4: Train the Model\n",
        "\n",
        "for epoch in range(5):\n",
        "\n",
        "    running_loss = 0.0\n",
        "\n",
        "    for i, data in enumerate(train_loader, 0):\n",
        "\n",
        "        inputs, labels = data\n",
        "\n",
        "        optimizer.zero_grad()\n",
        "\n",
        "        outputs = model(inputs)\n",
        "\n",
        "        loss = criterion(outputs, labels)\n",
        "\n",
        "        loss.backward()\n",
        "\n",
        "        optimizer.step()\n",
        "\n",
        "        running_loss += loss.item()\n",
        "\n",
        "        if i % 100 == 99:\n",
        "\n",
        "            print(f'Epoch: {epoch + 1}, Batch: {i + 1}, Loss: {running_loss / 100}')\n",
        "\n",
        "            running_loss = 0.0\n",
        "\n",
        "\n",
        "\n",
        "print('Finished Training')"
      ]
    }
  ],
  "metadata": {
    "colab": {
      "provenance": []
    },
    "kernelspec": {
      "display_name": "Python 3",
      "name": "python3"
    },
    "language_info": {
      "name": "python",
      "version": "3.12.1"
    }
  },
  "nbformat": 4,
  "nbformat_minor": 0
}
