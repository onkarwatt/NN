{
 "cells": [
  {
   "cell_type": "markdown",
   "metadata": {},
   "source": [
    "### Practical No. 9\n",
    "- Write a python program in python program for creating a Back Propagation Feed-forward neural \n",
    "network."
   ]
  },
  {
   "cell_type": "code",
   "execution_count": 1,
   "metadata": {},
   "outputs": [
    {
     "name": "stdout",
     "output_type": "stream",
     "text": [
      "Epoch 0: Loss = 0.4724\n",
      "Epoch 100: Loss = 0.2706\n",
      "Epoch 200: Loss = 0.2515\n",
      "Epoch 300: Loss = 0.2507\n",
      "Epoch 400: Loss = 0.2503\n",
      "Epoch 500: Loss = 0.2499\n",
      "Epoch 600: Loss = 0.2497\n",
      "Epoch 700: Loss = 0.2494\n",
      "Epoch 800: Loss = 0.2492\n",
      "Epoch 900: Loss = 0.2490\n",
      "Predictions:\n",
      "[[0.49964898]\n",
      " [0.51431025]\n",
      " [0.4887726 ]\n",
      " [0.49827464]]\n"
     ]
    }
   ],
   "source": [
    "import numpy as np\n",
    "\n",
    "class NeuralNetwork:\n",
    "    def __init__(self, input_size, hidden_size, output_size):\n",
    "        self.input_size = input_size\n",
    "        self.hidden_size = hidden_size\n",
    "        self.output_size = output_size\n",
    "        \n",
    "        # Initialize weights and biases\n",
    "        self.weights_input_hidden = np.random.randn(self.input_size, self.hidden_size)\n",
    "        self.bias_input_hidden = np.random.randn(1, self.hidden_size)\n",
    "        self.weights_hidden_output = np.random.randn(self.hidden_size, self.output_size)\n",
    "        self.bias_hidden_output = np.random.randn(1, self.output_size)\n",
    "        \n",
    "    def sigmoid(self, x):\n",
    "        return 1 / (1 + np.exp(-x))\n",
    "    \n",
    "    def sigmoid_derivative(self, x):\n",
    "        return x * (1 - x)\n",
    "    \n",
    "    def forward(self, X):\n",
    "        # Input to hidden layer\n",
    "        self.hidden_output = self.sigmoid(np.dot(X, self.weights_input_hidden) + self.bias_input_hidden)\n",
    "        # Hidden to output layer\n",
    "        self.predicted_output = self.sigmoid(np.dot(self.hidden_output, self.weights_hidden_output) + self.bias_hidden_output)\n",
    "        return self.predicted_output\n",
    "    \n",
    "    def backward(self, X, y, learning_rate):\n",
    "        # Calculate error\n",
    "        error = y - self.predicted_output\n",
    "        \n",
    "        # Compute gradients\n",
    "        delta_output = error * self.sigmoid_derivative(self.predicted_output)\n",
    "        delta_hidden = delta_output.dot(self.weights_hidden_output.T) * self.sigmoid_derivative(self.hidden_output)\n",
    "        \n",
    "        # Update weights and biases\n",
    "        self.weights_hidden_output += self.hidden_output.T.dot(delta_output) * learning_rate\n",
    "        self.bias_hidden_output += np.sum(delta_output, axis=0, keepdims=True) * learning_rate\n",
    "        self.weights_input_hidden += X.T.dot(delta_hidden) * learning_rate\n",
    "        self.bias_input_hidden += np.sum(delta_hidden, axis=0, keepdims=True) * learning_rate\n",
    "    \n",
    "    def train(self, X, y, epochs, learning_rate):\n",
    "        for epoch in range(epochs):\n",
    "            output = self.forward(X)\n",
    "            self.backward(X, y, learning_rate)\n",
    "            if epoch % 100 == 0:\n",
    "                loss = np.mean(np.square(y - output))\n",
    "                print(f'Epoch {epoch}: Loss = {loss:.4f}')\n",
    "                \n",
    "    def predict(self, X):\n",
    "        return self.forward(X)\n",
    "\n",
    "# Example usage\n",
    "X = np.array([[0,0], [0,1], [1,0], [1,1]])\n",
    "y = np.array([[0], [1], [1], [0]])\n",
    "\n",
    "input_size = 2\n",
    "hidden_size = 3\n",
    "output_size = 1\n",
    "\n",
    "nn = NeuralNetwork(input_size, hidden_size, output_size)\n",
    "nn.train(X, y, epochs=1000, learning_rate=0.1)\n",
    "\n",
    "# Test the trained model\n",
    "print(\"Predictions:\")\n",
    "print(nn.predict(X))"
   ]
  }
 ],
 "metadata": {
  "kernelspec": {
   "display_name": "Python 3",
   "language": "python",
   "name": "python3"
  },
  "language_info": {
   "codemirror_mode": {
    "name": "ipython",
    "version": 3
   },
   "file_extension": ".py",
   "mimetype": "text/x-python",
   "name": "python",
   "nbconvert_exporter": "python",
   "pygments_lexer": "ipython3",
   "version": "3.12.1"
  }
 },
 "nbformat": 4,
 "nbformat_minor": 2
}
